{
 "cells": [
  {
   "cell_type": "markdown",
   "metadata": {
    "id": "cVB9pY-v8uv5"
   },
   "source": [
    "# **DB 생성 및 관리**"
   ]
  },
  {
   "cell_type": "markdown",
   "metadata": {
    "id": "qTa9LlwZD_aa"
   },
   "source": [
    "## **1.환경준비**"
   ]
  },
  {
   "cell_type": "code",
   "execution_count": 1,
   "metadata": {
    "id": "GVvCef6A8uv6"
   },
   "outputs": [],
   "source": [
    "import pandas as pd\n",
    "import sqlite3\n",
    "import os\n",
    "import requests\n",
    "import xml.etree.ElementTree as ET\n",
    "import pandas as pd\n",
    "import openai\n",
    "from openai import OpenAI\n",
    "import json\n",
    "import torch\n",
    "import sys\n",
    "\n",
    "from transformers import AutoTokenizer, AutoModelForSequenceClassification\n",
    "\n",
    "\n",
    "# 더 필요한 라이브러리 추가 -------------\n",
    "import emergency as em\n",
    "import warnings\n",
    "warnings.filterwarnings(\"ignore\", category=DeprecationWarning)"
   ]
  },
  {
   "cell_type": "markdown",
   "metadata": {
    "id": "mnk1VvHm2Ka0"
   },
   "source": [
    "## **2.DB 작업**"
   ]
  },
  {
   "cell_type": "markdown",
   "metadata": {
    "id": "CiKsfjcrKx6Q"
   },
   "source": [
    "### (1) DB 생성 및 연결\n",
    "\n",
    "* 데이터베이스 연결\n",
    "    * 폴더는 미리 생성\n",
    "    * 해당 파일이 없으면 새로 생성, 있으면 연결"
   ]
  },
  {
   "cell_type": "code",
   "execution_count": 2,
   "metadata": {
    "id": "Xj5yt-Ufi1jU"
   },
   "outputs": [],
   "source": [
    "path = 'testdb.db'\n",
    "conn = sqlite3.connect(path)"
   ]
  },
  {
   "cell_type": "markdown",
   "metadata": {
    "id": "QVjd2weqKx6R"
   },
   "source": [
    "### (2) DB 작업 절차\n",
    "\n",
    "* 1) 커서 활용 : 대부분의 SQL 작업 가능\n",
    "    * ① 연결\n",
    "    * ② 커서 선언\n",
    "    * ③ 작업 : sql\n",
    "    * ④ 커밋(수정작업 저장)\n",
    "    * ⑤ 연결종료\n",
    "\n",
    "* 2) pandas 함수 활용 : 주로 insert, update, delete, select, create table & insert\n",
    "    * ① 연결\n",
    "    * ② 작업 : pandas 함수 이용\n",
    "    * ③ 연결종료"
   ]
  },
  {
   "cell_type": "markdown",
   "metadata": {
    "id": "BU2UcVmNKx6R"
   },
   "source": [
    "#### 1) 테이블 생성\n",
    "* 테이블 생성 작업\n",
    "    * DB Browser for SQLite 에서 직접 수행\n",
    "    * 파이썬에서 **연결**하고, **커서**를 생성해서 작업"
   ]
  },
  {
   "cell_type": "code",
   "execution_count": 3,
   "metadata": {
    "id": "sJc6Ey9nKx6R"
   },
   "outputs": [],
   "source": [
    "# 커서 객체 생성\n",
    "cursor = conn.cursor()\n",
    "\n",
    "# test 테이블 생성\n",
    "cursor.execute('''\n",
    "CREATE TABLE IF NOT EXISTS test (\n",
    "    id INTEGER PRIMARY KEY,\n",
    "    name TEXT NOT NULL,\n",
    "    age INTEGER NOT NULL\n",
    ")\n",
    "''')\n",
    "\n",
    "# 변경사항 커밋 (저장)\n",
    "conn.commit()\n",
    "\n",
    "# 연결 종료\n",
    "conn.close()"
   ]
  },
  {
   "cell_type": "markdown",
   "metadata": {
    "id": "Nw7N3UJ4Kx6R"
   },
   "source": [
    "#### 2) insert\n",
    "* 데이터프레임에서 직접 DB로 보내기 : df.to_sql"
   ]
  },
  {
   "cell_type": "code",
   "execution_count": 4,
   "metadata": {
    "id": "jVnqHmvmKx6R"
   },
   "outputs": [
    {
     "data": {
      "text/html": [
       "<div>\n",
       "<style scoped>\n",
       "    .dataframe tbody tr th:only-of-type {\n",
       "        vertical-align: middle;\n",
       "    }\n",
       "\n",
       "    .dataframe tbody tr th {\n",
       "        vertical-align: top;\n",
       "    }\n",
       "\n",
       "    .dataframe thead th {\n",
       "        text-align: right;\n",
       "    }\n",
       "</style>\n",
       "<table border=\"1\" class=\"dataframe\">\n",
       "  <thead>\n",
       "    <tr style=\"text-align: right;\">\n",
       "      <th></th>\n",
       "      <th>name</th>\n",
       "      <th>age</th>\n",
       "    </tr>\n",
       "  </thead>\n",
       "  <tbody>\n",
       "    <tr>\n",
       "      <th>0</th>\n",
       "      <td>Alice</td>\n",
       "      <td>30</td>\n",
       "    </tr>\n",
       "    <tr>\n",
       "      <th>1</th>\n",
       "      <td>Bob</td>\n",
       "      <td>25</td>\n",
       "    </tr>\n",
       "    <tr>\n",
       "      <th>2</th>\n",
       "      <td>Charlie</td>\n",
       "      <td>35</td>\n",
       "    </tr>\n",
       "    <tr>\n",
       "      <th>3</th>\n",
       "      <td>David</td>\n",
       "      <td>40</td>\n",
       "    </tr>\n",
       "  </tbody>\n",
       "</table>\n",
       "</div>"
      ],
      "text/plain": [
       "      name  age\n",
       "0    Alice   30\n",
       "1      Bob   25\n",
       "2  Charlie   35\n",
       "3    David   40"
      ]
     },
     "execution_count": 4,
     "metadata": {},
     "output_type": "execute_result"
    }
   ],
   "source": [
    "# ① 연결\n",
    "conn = sqlite3.connect(path)\n",
    "\n",
    "# ② 작업 : to_sql\n",
    "data = pd.DataFrame({'name': ['Alice', 'Bob', 'Charlie', 'David'], 'age': [30, 25, 35, 40]})\n",
    "data.to_sql('test', conn, if_exists='append', index=False) # test 테이블이 있으면 insert, 없으면 생성\n",
    "\n",
    "# ③ 연결 종료\n",
    "conn.close()\n",
    "data"
   ]
  },
  {
   "cell_type": "markdown",
   "metadata": {
    "id": "MskRubvYKx6S"
   },
   "source": [
    "#### 3) Select"
   ]
  },
  {
   "cell_type": "code",
   "execution_count": null,
   "metadata": {
    "id": "3jkkcu6SKx6S"
   },
   "outputs": [
    {
     "data": {
      "text/html": [
       "<div>\n",
       "<style scoped>\n",
       "    .dataframe tbody tr th:only-of-type {\n",
       "        vertical-align: middle;\n",
       "    }\n",
       "\n",
       "    .dataframe tbody tr th {\n",
       "        vertical-align: top;\n",
       "    }\n",
       "\n",
       "    .dataframe thead th {\n",
       "        text-align: right;\n",
       "    }\n",
       "</style>\n",
       "<table border=\"1\" class=\"dataframe\">\n",
       "  <thead>\n",
       "    <tr style=\"text-align: right;\">\n",
       "      <th></th>\n",
       "      <th>id</th>\n",
       "      <th>name</th>\n",
       "      <th>age</th>\n",
       "    </tr>\n",
       "  </thead>\n",
       "  <tbody>\n",
       "    <tr>\n",
       "      <th>0</th>\n",
       "      <td>1</td>\n",
       "      <td>Alice</td>\n",
       "      <td>30</td>\n",
       "    </tr>\n",
       "    <tr>\n",
       "      <th>1</th>\n",
       "      <td>2</td>\n",
       "      <td>Bob</td>\n",
       "      <td>25</td>\n",
       "    </tr>\n",
       "    <tr>\n",
       "      <th>2</th>\n",
       "      <td>3</td>\n",
       "      <td>Charlie</td>\n",
       "      <td>35</td>\n",
       "    </tr>\n",
       "    <tr>\n",
       "      <th>3</th>\n",
       "      <td>4</td>\n",
       "      <td>David</td>\n",
       "      <td>40</td>\n",
       "    </tr>\n",
       "  </tbody>\n",
       "</table>\n",
       "</div>"
      ],
      "text/plain": [
       "   id     name  age\n",
       "0   1    Alice   30\n",
       "1   2      Bob   25\n",
       "2   3  Charlie   35\n",
       "3   4    David   40"
      ]
     },
     "metadata": {},
     "output_type": "display_data"
    }
   ],
   "source": [
    "# ① 연결\n",
    "conn = sqlite3.connect(path)\n",
    "\n",
    "# ② 작업 : select\n",
    "df = pd.read_sql('SELECT * FROM test', conn)\n",
    "display(df)\n",
    "\n",
    "# ③ 연결 종료\n",
    "conn.close()"
   ]
  },
  {
   "cell_type": "markdown",
   "metadata": {
    "id": "AIKf8LWNKx6S"
   },
   "source": [
    "#### 4) Drop"
   ]
  },
  {
   "cell_type": "markdown",
   "metadata": {
    "id": "OmdftvsxKx6S"
   },
   "source": [
    "* 커서로만 작업 가능"
   ]
  },
  {
   "cell_type": "code",
   "execution_count": 6,
   "metadata": {
    "id": "5T8sI0glKx6T"
   },
   "outputs": [],
   "source": [
    "# ① 연결\n",
    "conn = sqlite3.connect(path)\n",
    "\n",
    "# ② 커서 선언\n",
    "cursor = conn.cursor()\n",
    "\n",
    "# ③ 작업 : 테이블 삭제\n",
    "cursor.execute('DROP TABLE IF EXISTS test')\n",
    "\n",
    "# ④ 커밋(수정작업 저장)\n",
    "conn.commit()\n",
    "\n",
    "# ⑤ 연결종료\n",
    "conn.close()"
   ]
  },
  {
   "cell_type": "markdown",
   "metadata": {
    "id": "8a6vtE7BKx6T"
   },
   "source": [
    "## **3.관리용 DB**\n"
   ]
  },
  {
   "cell_type": "markdown",
   "metadata": {
    "id": "4sW9iMcCWj-y"
   },
   "source": [
    "### (1) DB 생성\n",
    "\n",
    "* DB를 아래 경로와 이름으로 생성\n",
    "    * project7/db/em.db"
   ]
  },
  {
   "cell_type": "code",
   "execution_count": 7,
   "metadata": {
    "id": "zpuI3doDW3MO"
   },
   "outputs": [],
   "source": [
    "# path = './db/em.db'\n",
    "# # 연결결\n",
    "# conn = sqlite3.connect(path)\n",
    "\n",
    "# # # ② 작업 : to_sql\n",
    "# # data = pd.DataFrame({'name': ['Alice', 'Bob', 'Charlie', 'David'], 'age': [30, 25, 35, 40]})\n",
    "# # data.to_sql('test', conn, if_exists='append', index=False) # test 테이블이 있으면 insert, 없으면 생성\n",
    "# # dataz\n",
    "# # # ③ 연결 종료\n",
    "# # conn.close()\n",
    "# # data\n"
   ]
  },
  {
   "cell_type": "markdown",
   "metadata": {
    "id": "esNjCTM4W4Qb"
   },
   "source": [
    "### (2) log 테이블 생성\n",
    "* 칼럼 구성\n",
    "\n",
    "|column name | descrition | data type | comment |\n",
    "|----|----|----|----|\n",
    "|datetime | 요청일시 | text | yyyy-mm-dd hh:mi:ss |\n",
    "|input_text | 입력text | text |  |\n",
    "|input_latitude | 입력 위도 | real |  |\n",
    "|input_longitude | 입력 경도 | real |  |\n",
    "|em_class | 응급 등급(1~5) | integer |  |\n",
    "|hospital1 | 추천병원명 | text |  |\n",
    "|addr1 | 추천병원주소 | text |  |\n",
    "|tel1 | 추천병원전화번호 | text |  |\n",
    "|hospital2 | 추천병원명2 | text |  |\n",
    "|addr2 | 추천병원주소2 | text |  |\n",
    "|tel2 | 추천병원전화번호2 | text |  |\n",
    "|hospital3 | 추천병원명3 | text |  |\n",
    "|addr3 | 추천병원주소3 | text |  |\n",
    "|tel3 | 추천병원전화번호3 | text |  |"
   ]
  },
  {
   "cell_type": "code",
   "execution_count": null,
   "metadata": {},
   "outputs": [],
   "source": [
    "# ① 연결\n",
    "conn = sqlite3.connect(path)\n",
    "\n",
    "# ② 작업 : to_sql\n",
    "data = pd.DataFrame({'datetime':[],'input_text':[],'input_latitude':[],'input_longitude':[],'em_class':[],'hospital1':[],'addr1':[],'tel1':[],'hospital2':[],'addr2':[],'tel2':[],'hospital3':[],'addr3':[],'tel3':[]})\n",
    "data.to_sql('test', conn, if_exists='append', index=False) # test 테이블이 있으면 insert, 없으면 생성\n",
    "\n",
    "# cursor.execute('''\n",
    "# INSERT INTO emergency_logs (datetime, input_text, input_latitude, input_longitude, em_class, hospital1, addr1, tel1, hospital2, addr2, tel2, hospital3, addr3, tel3)\n",
    "# VALUES (?, ?, ?, ?, ?, ?, ?, ?, ?, ?, ?, ?, ?, ?)\n",
    "# ''', ('2024-12-18 15:00:00', '응급 상황 발생', 37.5665, 126.9780, 2, '서울병원', '서울특별시 종로구', '02-123-4567'))\n",
    "\n",
    "conn.commit()\n",
    "print(\"데이터가 삽입되었습니다.\")\n",
    "\n",
    "# ③ 연결 종료\n",
    "conn.close()\n",
    "data"
   ]
  },
  {
   "cell_type": "markdown",
   "metadata": {
    "id": "3SLXNGgvbFWG"
   },
   "source": [
    "### (3) log 테이블 입력 함수"
   ]
  },
  {
   "cell_type": "markdown",
   "metadata": {
    "id": "T1UJT7xFZXPL"
   },
   "source": [
    "* 현재 일시 저장하기 예제\n",
    "\n",
    "            # 현재 연월일 시분초 뽑기\n",
    "            from datetime import datetime\n",
    "            dt = datetime.now()\n",
    "            dt = dt.strftime('%Y-%m-%d %H:%M:%S')\n"
   ]
  },
  {
   "cell_type": "code",
   "execution_count": null,
   "metadata": {
    "id": "FtqHrdYTcj33"
   },
   "outputs": [
    {
     "name": "stdout",
     "output_type": "stream",
     "text": [
      "응급상황인것으로 판단됩니다. 응급실로 이동하세요\n",
      "데이터가 삽입되었습니다.\n"
     ]
    }
   ],
   "source": [
    "import emergency as em\n",
    "from datetime import datetime\n",
    "dt = datetime.now()\n",
    "dt = dt.strftime(\"%Y/%m/%d, %H:%M:%S\")\n",
    "\n",
    "path = './'\n",
    "df_emergency = pd.read_csv(path + '응급실 정보.csv')\n",
    "\n",
    "def pipeline(path, audio, location):\n",
    "  OpenAIClient = em.LoadOpenAIClient(path)\n",
    "  audio_path = path + 'audio/'\n",
    "  audioName = audio + '.mp3'\n",
    "  a = em.AudioToText(audio_path, audioName, OpenAIClient)\n",
    "  sumText = em.TextToSummary(a, OpenAIClient)\n",
    "  model_path = path + 'fine_tuned_bert'\n",
    "  result = em.predict(sumText,  model_path, 'cpu')\n",
    "  if(result < 3):\n",
    "    print('응급상황인것으로 판단됩니다. 응급실로 이동하세요')\n",
    "  else:\n",
    "    print('응급상황이 아닌 것으로 판단됩니다. 증상이 악화된다면 응급실로 이동하세요')\n",
    "  return em.RecommandHospital(location, df_emergency),result, sumText\n",
    "\n",
    "my_location = (36.339073,127.966817)\n",
    "df,result,sumText = pipeline(path, 'audio2', my_location)\n",
    "\n",
    "# 테이블 생성 및 여러 데이터 한 번에 삽입\n",
    "cursor.execute('''\n",
    "INSERT INTO emergency_logs (datetime, input_text, input_latitude, input_longitude, em_class, hospital1, addr1, tel1, hospital2, addr2, tel2, hospital3, addr3, tel3)\n",
    "VALUES (?, ?, ?, ?, ?, ?, ?, ?, ?, ?, ?, ?, ?, ?) \n",
    "''', (str(dt),sumText, my_location[0], my_location[1], result, df.loc[0,'병원이름'], df.loc[0,'주소'], df.loc[0,'전화번호 1'], df.loc[1,'병원이름'], df.loc[1,'주소'], df.loc[1,'전화번호 1'],df.loc[2,'병원이름'], df.loc[2,'주소'], df.loc[2,'전화번호 1']))\n",
    "\n",
    "conn.commit()\n",
    "\n",
    "print(\"데이터가 삽입되었습니다.\")\n"
   ]
  },
  {
   "cell_type": "code",
   "execution_count": null,
   "metadata": {},
   "outputs": [],
   "source": []
  }
 ],
 "metadata": {
  "colab": {
   "provenance": [],
   "toc_visible": true
  },
  "kernelspec": {
   "display_name": "project7",
   "language": "python",
   "name": "python3"
  },
  "language_info": {
   "codemirror_mode": {
    "name": "ipython",
    "version": 3
   },
   "file_extension": ".py",
   "mimetype": "text/x-python",
   "name": "python",
   "nbconvert_exporter": "python",
   "pygments_lexer": "ipython3",
   "version": "3.12.8"
  }
 },
 "nbformat": 4,
 "nbformat_minor": 0
}
